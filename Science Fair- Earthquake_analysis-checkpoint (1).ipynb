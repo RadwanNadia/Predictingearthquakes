{
 "cells": [
  {
   "cell_type": "markdown",
   "id": "0a2ac401",
   "metadata": {},
   "source": [
    "# Science Fair 2023\n",
    "## Making an AI Model That Predicts Earthquakes' Magnitudes\n",
    "*Nadia Radwan - WWSEF*\n",
    "\n"
   ]
  },
  {
   "cell_type": "markdown",
   "id": "451be5db",
   "metadata": {},
   "source": [
    "![Wikimedia Commons/>](https://th.bing.com/th/id/OIP.8DArMdLNu0s5X6iuShmAhQHaFA?w=267&h=181&c=7&r=0&o=5&pid=1.7) \n"
   ]
  },
  {
   "cell_type": "markdown",
   "id": "f7cbbdca",
   "metadata": {},
   "source": [
    "***\n",
    "# Part 1\n",
    "## Making Predictions"
   ]
  },
  {
   "cell_type": "code",
   "execution_count": 1,
   "id": "093e90bb",
   "metadata": {},
   "outputs": [],
   "source": [
    "import numpy as np\n",
    "import pandas as pd\n",
    "import matplotlib.pyplot as plt\n"
   ]
  },
  {
   "cell_type": "code",
   "execution_count": 2,
   "id": "a0ea3d42",
   "metadata": {},
   "outputs": [
    {
     "data": {
      "text/html": [
       "<div>\n",
       "<style scoped>\n",
       "    .dataframe tbody tr th:only-of-type {\n",
       "        vertical-align: middle;\n",
       "    }\n",
       "\n",
       "    .dataframe tbody tr th {\n",
       "        vertical-align: top;\n",
       "    }\n",
       "\n",
       "    .dataframe thead th {\n",
       "        text-align: right;\n",
       "    }\n",
       "</style>\n",
       "<table border=\"1\" class=\"dataframe\">\n",
       "  <thead>\n",
       "    <tr style=\"text-align: right;\">\n",
       "      <th></th>\n",
       "      <th>Date</th>\n",
       "      <th>Time</th>\n",
       "      <th>Latitude</th>\n",
       "      <th>Longitude</th>\n",
       "      <th>Type</th>\n",
       "      <th>Depth</th>\n",
       "      <th>Depth Error</th>\n",
       "      <th>Depth Seismic Stations</th>\n",
       "      <th>Magnitude</th>\n",
       "      <th>Magnitude Type</th>\n",
       "      <th>...</th>\n",
       "      <th>Magnitude Seismic Stations</th>\n",
       "      <th>Azimuthal Gap</th>\n",
       "      <th>Horizontal Distance</th>\n",
       "      <th>Horizontal Error</th>\n",
       "      <th>Root Mean Square</th>\n",
       "      <th>ID</th>\n",
       "      <th>Source</th>\n",
       "      <th>Location Source</th>\n",
       "      <th>Magnitude Source</th>\n",
       "      <th>Status</th>\n",
       "    </tr>\n",
       "  </thead>\n",
       "  <tbody>\n",
       "    <tr>\n",
       "      <th>0</th>\n",
       "      <td>01/02/1965</td>\n",
       "      <td>13:44:18</td>\n",
       "      <td>19.246</td>\n",
       "      <td>145.616</td>\n",
       "      <td>Earthquake</td>\n",
       "      <td>131.6</td>\n",
       "      <td>NaN</td>\n",
       "      <td>NaN</td>\n",
       "      <td>6.0</td>\n",
       "      <td>MW</td>\n",
       "      <td>...</td>\n",
       "      <td>NaN</td>\n",
       "      <td>NaN</td>\n",
       "      <td>NaN</td>\n",
       "      <td>NaN</td>\n",
       "      <td>NaN</td>\n",
       "      <td>ISCGEM860706</td>\n",
       "      <td>ISCGEM</td>\n",
       "      <td>ISCGEM</td>\n",
       "      <td>ISCGEM</td>\n",
       "      <td>Automatic</td>\n",
       "    </tr>\n",
       "    <tr>\n",
       "      <th>1</th>\n",
       "      <td>01/04/1965</td>\n",
       "      <td>11:29:49</td>\n",
       "      <td>1.863</td>\n",
       "      <td>127.352</td>\n",
       "      <td>Earthquake</td>\n",
       "      <td>80.0</td>\n",
       "      <td>NaN</td>\n",
       "      <td>NaN</td>\n",
       "      <td>5.8</td>\n",
       "      <td>MW</td>\n",
       "      <td>...</td>\n",
       "      <td>NaN</td>\n",
       "      <td>NaN</td>\n",
       "      <td>NaN</td>\n",
       "      <td>NaN</td>\n",
       "      <td>NaN</td>\n",
       "      <td>ISCGEM860737</td>\n",
       "      <td>ISCGEM</td>\n",
       "      <td>ISCGEM</td>\n",
       "      <td>ISCGEM</td>\n",
       "      <td>Automatic</td>\n",
       "    </tr>\n",
       "    <tr>\n",
       "      <th>2</th>\n",
       "      <td>01/05/1965</td>\n",
       "      <td>18:05:58</td>\n",
       "      <td>-20.579</td>\n",
       "      <td>-173.972</td>\n",
       "      <td>Earthquake</td>\n",
       "      <td>20.0</td>\n",
       "      <td>NaN</td>\n",
       "      <td>NaN</td>\n",
       "      <td>6.2</td>\n",
       "      <td>MW</td>\n",
       "      <td>...</td>\n",
       "      <td>NaN</td>\n",
       "      <td>NaN</td>\n",
       "      <td>NaN</td>\n",
       "      <td>NaN</td>\n",
       "      <td>NaN</td>\n",
       "      <td>ISCGEM860762</td>\n",
       "      <td>ISCGEM</td>\n",
       "      <td>ISCGEM</td>\n",
       "      <td>ISCGEM</td>\n",
       "      <td>Automatic</td>\n",
       "    </tr>\n",
       "    <tr>\n",
       "      <th>3</th>\n",
       "      <td>01/08/1965</td>\n",
       "      <td>18:49:43</td>\n",
       "      <td>-59.076</td>\n",
       "      <td>-23.557</td>\n",
       "      <td>Earthquake</td>\n",
       "      <td>15.0</td>\n",
       "      <td>NaN</td>\n",
       "      <td>NaN</td>\n",
       "      <td>5.8</td>\n",
       "      <td>MW</td>\n",
       "      <td>...</td>\n",
       "      <td>NaN</td>\n",
       "      <td>NaN</td>\n",
       "      <td>NaN</td>\n",
       "      <td>NaN</td>\n",
       "      <td>NaN</td>\n",
       "      <td>ISCGEM860856</td>\n",
       "      <td>ISCGEM</td>\n",
       "      <td>ISCGEM</td>\n",
       "      <td>ISCGEM</td>\n",
       "      <td>Automatic</td>\n",
       "    </tr>\n",
       "    <tr>\n",
       "      <th>4</th>\n",
       "      <td>01/09/1965</td>\n",
       "      <td>13:32:50</td>\n",
       "      <td>11.938</td>\n",
       "      <td>126.427</td>\n",
       "      <td>Earthquake</td>\n",
       "      <td>15.0</td>\n",
       "      <td>NaN</td>\n",
       "      <td>NaN</td>\n",
       "      <td>5.8</td>\n",
       "      <td>MW</td>\n",
       "      <td>...</td>\n",
       "      <td>NaN</td>\n",
       "      <td>NaN</td>\n",
       "      <td>NaN</td>\n",
       "      <td>NaN</td>\n",
       "      <td>NaN</td>\n",
       "      <td>ISCGEM860890</td>\n",
       "      <td>ISCGEM</td>\n",
       "      <td>ISCGEM</td>\n",
       "      <td>ISCGEM</td>\n",
       "      <td>Automatic</td>\n",
       "    </tr>\n",
       "  </tbody>\n",
       "</table>\n",
       "<p>5 rows × 21 columns</p>\n",
       "</div>"
      ],
      "text/plain": [
       "         Date      Time  Latitude  Longitude        Type  Depth  Depth Error  \\\n",
       "0  01/02/1965  13:44:18    19.246    145.616  Earthquake  131.6          NaN   \n",
       "1  01/04/1965  11:29:49     1.863    127.352  Earthquake   80.0          NaN   \n",
       "2  01/05/1965  18:05:58   -20.579   -173.972  Earthquake   20.0          NaN   \n",
       "3  01/08/1965  18:49:43   -59.076    -23.557  Earthquake   15.0          NaN   \n",
       "4  01/09/1965  13:32:50    11.938    126.427  Earthquake   15.0          NaN   \n",
       "\n",
       "   Depth Seismic Stations  Magnitude Magnitude Type  ...  \\\n",
       "0                     NaN        6.0             MW  ...   \n",
       "1                     NaN        5.8             MW  ...   \n",
       "2                     NaN        6.2             MW  ...   \n",
       "3                     NaN        5.8             MW  ...   \n",
       "4                     NaN        5.8             MW  ...   \n",
       "\n",
       "   Magnitude Seismic Stations  Azimuthal Gap  Horizontal Distance  \\\n",
       "0                         NaN            NaN                  NaN   \n",
       "1                         NaN            NaN                  NaN   \n",
       "2                         NaN            NaN                  NaN   \n",
       "3                         NaN            NaN                  NaN   \n",
       "4                         NaN            NaN                  NaN   \n",
       "\n",
       "   Horizontal Error  Root Mean Square            ID  Source Location Source  \\\n",
       "0               NaN               NaN  ISCGEM860706  ISCGEM          ISCGEM   \n",
       "1               NaN               NaN  ISCGEM860737  ISCGEM          ISCGEM   \n",
       "2               NaN               NaN  ISCGEM860762  ISCGEM          ISCGEM   \n",
       "3               NaN               NaN  ISCGEM860856  ISCGEM          ISCGEM   \n",
       "4               NaN               NaN  ISCGEM860890  ISCGEM          ISCGEM   \n",
       "\n",
       "  Magnitude Source     Status  \n",
       "0           ISCGEM  Automatic  \n",
       "1           ISCGEM  Automatic  \n",
       "2           ISCGEM  Automatic  \n",
       "3           ISCGEM  Automatic  \n",
       "4           ISCGEM  Automatic  \n",
       "\n",
       "[5 rows x 21 columns]"
      ]
     },
     "execution_count": 2,
     "metadata": {},
     "output_type": "execute_result"
    }
   ],
   "source": [
    "data = pd.read_csv(\"database.csv\")\n",
    "data.head()"
   ]
  },
  {
   "cell_type": "code",
   "execution_count": 3,
   "id": "e51cf976",
   "metadata": {},
   "outputs": [
    {
     "data": {
      "text/plain": [
       "Index(['Date', 'Time', 'Latitude', 'Longitude', 'Type', 'Depth', 'Depth Error',\n",
       "       'Depth Seismic Stations', 'Magnitude', 'Magnitude Type',\n",
       "       'Magnitude Error', 'Magnitude Seismic Stations', 'Azimuthal Gap',\n",
       "       'Horizontal Distance', 'Horizontal Error', 'Root Mean Square', 'ID',\n",
       "       'Source', 'Location Source', 'Magnitude Source', 'Status'],\n",
       "      dtype='object')"
      ]
     },
     "execution_count": 3,
     "metadata": {},
     "output_type": "execute_result"
    }
   ],
   "source": [
    "data.columns"
   ]
  },
  {
   "cell_type": "code",
   "execution_count": 4,
   "id": "67431ae5",
   "metadata": {},
   "outputs": [
    {
     "data": {
      "text/html": [
       "<div>\n",
       "<style scoped>\n",
       "    .dataframe tbody tr th:only-of-type {\n",
       "        vertical-align: middle;\n",
       "    }\n",
       "\n",
       "    .dataframe tbody tr th {\n",
       "        vertical-align: top;\n",
       "    }\n",
       "\n",
       "    .dataframe thead th {\n",
       "        text-align: right;\n",
       "    }\n",
       "</style>\n",
       "<table border=\"1\" class=\"dataframe\">\n",
       "  <thead>\n",
       "    <tr style=\"text-align: right;\">\n",
       "      <th></th>\n",
       "      <th>Date</th>\n",
       "      <th>Time</th>\n",
       "      <th>Latitude</th>\n",
       "      <th>Longitude</th>\n",
       "      <th>Depth</th>\n",
       "      <th>Magnitude</th>\n",
       "    </tr>\n",
       "  </thead>\n",
       "  <tbody>\n",
       "    <tr>\n",
       "      <th>0</th>\n",
       "      <td>01/02/1965</td>\n",
       "      <td>13:44:18</td>\n",
       "      <td>19.246</td>\n",
       "      <td>145.616</td>\n",
       "      <td>131.6</td>\n",
       "      <td>6.0</td>\n",
       "    </tr>\n",
       "    <tr>\n",
       "      <th>1</th>\n",
       "      <td>01/04/1965</td>\n",
       "      <td>11:29:49</td>\n",
       "      <td>1.863</td>\n",
       "      <td>127.352</td>\n",
       "      <td>80.0</td>\n",
       "      <td>5.8</td>\n",
       "    </tr>\n",
       "    <tr>\n",
       "      <th>2</th>\n",
       "      <td>01/05/1965</td>\n",
       "      <td>18:05:58</td>\n",
       "      <td>-20.579</td>\n",
       "      <td>-173.972</td>\n",
       "      <td>20.0</td>\n",
       "      <td>6.2</td>\n",
       "    </tr>\n",
       "    <tr>\n",
       "      <th>3</th>\n",
       "      <td>01/08/1965</td>\n",
       "      <td>18:49:43</td>\n",
       "      <td>-59.076</td>\n",
       "      <td>-23.557</td>\n",
       "      <td>15.0</td>\n",
       "      <td>5.8</td>\n",
       "    </tr>\n",
       "    <tr>\n",
       "      <th>4</th>\n",
       "      <td>01/09/1965</td>\n",
       "      <td>13:32:50</td>\n",
       "      <td>11.938</td>\n",
       "      <td>126.427</td>\n",
       "      <td>15.0</td>\n",
       "      <td>5.8</td>\n",
       "    </tr>\n",
       "  </tbody>\n",
       "</table>\n",
       "</div>"
      ],
      "text/plain": [
       "         Date      Time  Latitude  Longitude  Depth  Magnitude\n",
       "0  01/02/1965  13:44:18    19.246    145.616  131.6        6.0\n",
       "1  01/04/1965  11:29:49     1.863    127.352   80.0        5.8\n",
       "2  01/05/1965  18:05:58   -20.579   -173.972   20.0        6.2\n",
       "3  01/08/1965  18:49:43   -59.076    -23.557   15.0        5.8\n",
       "4  01/09/1965  13:32:50    11.938    126.427   15.0        5.8"
      ]
     },
     "execution_count": 4,
     "metadata": {},
     "output_type": "execute_result"
    }
   ],
   "source": [
    "df = data[['Date', 'Time', 'Latitude', 'Longitude', 'Depth', 'Magnitude']]\n",
    "df.head()"
   ]
  },
  {
   "cell_type": "code",
   "execution_count": 5,
   "id": "2b73e886",
   "metadata": {},
   "outputs": [
    {
     "data": {
      "text/html": [
       "<div>\n",
       "<style scoped>\n",
       "    .dataframe tbody tr th:only-of-type {\n",
       "        vertical-align: middle;\n",
       "    }\n",
       "\n",
       "    .dataframe tbody tr th {\n",
       "        vertical-align: top;\n",
       "    }\n",
       "\n",
       "    .dataframe thead th {\n",
       "        text-align: right;\n",
       "    }\n",
       "</style>\n",
       "<table border=\"1\" class=\"dataframe\">\n",
       "  <thead>\n",
       "    <tr style=\"text-align: right;\">\n",
       "      <th></th>\n",
       "      <th>Date</th>\n",
       "      <th>Time</th>\n",
       "      <th>Latitude</th>\n",
       "      <th>Longitude</th>\n",
       "      <th>Depth</th>\n",
       "      <th>Magnitude</th>\n",
       "    </tr>\n",
       "  </thead>\n",
       "  <tbody>\n",
       "    <tr>\n",
       "      <th>0</th>\n",
       "      <td>01/02/1965</td>\n",
       "      <td>13:44:18</td>\n",
       "      <td>19.2460</td>\n",
       "      <td>145.6160</td>\n",
       "      <td>131.60</td>\n",
       "      <td>6.0</td>\n",
       "    </tr>\n",
       "    <tr>\n",
       "      <th>1</th>\n",
       "      <td>01/04/1965</td>\n",
       "      <td>11:29:49</td>\n",
       "      <td>1.8630</td>\n",
       "      <td>127.3520</td>\n",
       "      <td>80.00</td>\n",
       "      <td>5.8</td>\n",
       "    </tr>\n",
       "    <tr>\n",
       "      <th>2</th>\n",
       "      <td>01/05/1965</td>\n",
       "      <td>18:05:58</td>\n",
       "      <td>-20.5790</td>\n",
       "      <td>-173.9720</td>\n",
       "      <td>20.00</td>\n",
       "      <td>6.2</td>\n",
       "    </tr>\n",
       "    <tr>\n",
       "      <th>3</th>\n",
       "      <td>01/08/1965</td>\n",
       "      <td>18:49:43</td>\n",
       "      <td>-59.0760</td>\n",
       "      <td>-23.5570</td>\n",
       "      <td>15.00</td>\n",
       "      <td>5.8</td>\n",
       "    </tr>\n",
       "    <tr>\n",
       "      <th>4</th>\n",
       "      <td>01/09/1965</td>\n",
       "      <td>13:32:50</td>\n",
       "      <td>11.9380</td>\n",
       "      <td>126.4270</td>\n",
       "      <td>15.00</td>\n",
       "      <td>5.8</td>\n",
       "    </tr>\n",
       "    <tr>\n",
       "      <th>...</th>\n",
       "      <td>...</td>\n",
       "      <td>...</td>\n",
       "      <td>...</td>\n",
       "      <td>...</td>\n",
       "      <td>...</td>\n",
       "      <td>...</td>\n",
       "    </tr>\n",
       "    <tr>\n",
       "      <th>23407</th>\n",
       "      <td>12/28/2016</td>\n",
       "      <td>08:22:12</td>\n",
       "      <td>38.3917</td>\n",
       "      <td>-118.8941</td>\n",
       "      <td>12.30</td>\n",
       "      <td>5.6</td>\n",
       "    </tr>\n",
       "    <tr>\n",
       "      <th>23408</th>\n",
       "      <td>12/28/2016</td>\n",
       "      <td>09:13:47</td>\n",
       "      <td>38.3777</td>\n",
       "      <td>-118.8957</td>\n",
       "      <td>8.80</td>\n",
       "      <td>5.5</td>\n",
       "    </tr>\n",
       "    <tr>\n",
       "      <th>23409</th>\n",
       "      <td>12/28/2016</td>\n",
       "      <td>12:38:51</td>\n",
       "      <td>36.9179</td>\n",
       "      <td>140.4262</td>\n",
       "      <td>10.00</td>\n",
       "      <td>5.9</td>\n",
       "    </tr>\n",
       "    <tr>\n",
       "      <th>23410</th>\n",
       "      <td>12/29/2016</td>\n",
       "      <td>22:30:19</td>\n",
       "      <td>-9.0283</td>\n",
       "      <td>118.6639</td>\n",
       "      <td>79.00</td>\n",
       "      <td>6.3</td>\n",
       "    </tr>\n",
       "    <tr>\n",
       "      <th>23411</th>\n",
       "      <td>12/30/2016</td>\n",
       "      <td>20:08:28</td>\n",
       "      <td>37.3973</td>\n",
       "      <td>141.4103</td>\n",
       "      <td>11.94</td>\n",
       "      <td>5.5</td>\n",
       "    </tr>\n",
       "  </tbody>\n",
       "</table>\n",
       "<p>23412 rows × 6 columns</p>\n",
       "</div>"
      ],
      "text/plain": [
       "             Date      Time  Latitude  Longitude   Depth  Magnitude\n",
       "0      01/02/1965  13:44:18   19.2460   145.6160  131.60        6.0\n",
       "1      01/04/1965  11:29:49    1.8630   127.3520   80.00        5.8\n",
       "2      01/05/1965  18:05:58  -20.5790  -173.9720   20.00        6.2\n",
       "3      01/08/1965  18:49:43  -59.0760   -23.5570   15.00        5.8\n",
       "4      01/09/1965  13:32:50   11.9380   126.4270   15.00        5.8\n",
       "...           ...       ...       ...        ...     ...        ...\n",
       "23407  12/28/2016  08:22:12   38.3917  -118.8941   12.30        5.6\n",
       "23408  12/28/2016  09:13:47   38.3777  -118.8957    8.80        5.5\n",
       "23409  12/28/2016  12:38:51   36.9179   140.4262   10.00        5.9\n",
       "23410  12/29/2016  22:30:19   -9.0283   118.6639   79.00        6.3\n",
       "23411  12/30/2016  20:08:28   37.3973   141.4103   11.94        5.5\n",
       "\n",
       "[23412 rows x 6 columns]"
      ]
     },
     "execution_count": 5,
     "metadata": {},
     "output_type": "execute_result"
    }
   ],
   "source": [
    "df"
   ]
  },
  {
   "cell_type": "code",
   "execution_count": 6,
   "id": "085df942",
   "metadata": {},
   "outputs": [
    {
     "name": "stderr",
     "output_type": "stream",
     "text": [
      "C:\\Users\\abeer\\AppData\\Local\\Temp\\ipykernel_10464\\3303721065.py:1: SettingWithCopyWarning: \n",
      "A value is trying to be set on a copy of a slice from a DataFrame.\n",
      "Try using .loc[row_indexer,col_indexer] = value instead\n",
      "\n",
      "See the caveats in the documentation: https://pandas.pydata.org/pandas-docs/stable/user_guide/indexing.html#returning-a-view-versus-a-copy\n",
      "  df['timestamp'] = df['Date'] + ' ' + df['Time']\n"
     ]
    }
   ],
   "source": [
    "df['timestamp'] = df['Date'] + ' ' + df['Time']"
   ]
  },
  {
   "cell_type": "code",
   "execution_count": 7,
   "id": "abda7a11",
   "metadata": {},
   "outputs": [
    {
     "name": "stderr",
     "output_type": "stream",
     "text": [
      "C:\\Users\\abeer\\AppData\\Local\\Temp\\ipykernel_10464\\2538813300.py:1: SettingWithCopyWarning: \n",
      "A value is trying to be set on a copy of a slice from a DataFrame.\n",
      "Try using .loc[row_indexer,col_indexer] = value instead\n",
      "\n",
      "See the caveats in the documentation: https://pandas.pydata.org/pandas-docs/stable/user_guide/indexing.html#returning-a-view-versus-a-copy\n",
      "  df['timestamp'] = pd.to_datetime(df['timestamp'],errors='coerce' )\n"
     ]
    }
   ],
   "source": [
    "df['timestamp'] = pd.to_datetime(df['timestamp'],errors='coerce' )"
   ]
  },
  {
   "cell_type": "code",
   "execution_count": 8,
   "id": "0cd25c89",
   "metadata": {},
   "outputs": [
    {
     "name": "stdout",
     "output_type": "stream",
     "text": [
      "             Date      Time  Latitude  Longitude   Depth  Magnitude  \\\n",
      "0      01/02/1965  13:44:18   19.2460   145.6160  131.60        6.0   \n",
      "1      01/04/1965  11:29:49    1.8630   127.3520   80.00        5.8   \n",
      "2      01/05/1965  18:05:58  -20.5790  -173.9720   20.00        6.2   \n",
      "3      01/08/1965  18:49:43  -59.0760   -23.5570   15.00        5.8   \n",
      "4      01/09/1965  13:32:50   11.9380   126.4270   15.00        5.8   \n",
      "...           ...       ...       ...        ...     ...        ...   \n",
      "23407  12/28/2016  08:22:12   38.3917  -118.8941   12.30        5.6   \n",
      "23408  12/28/2016  09:13:47   38.3777  -118.8957    8.80        5.5   \n",
      "23409  12/28/2016  12:38:51   36.9179   140.4262   10.00        5.9   \n",
      "23410  12/29/2016  22:30:19   -9.0283   118.6639   79.00        6.3   \n",
      "23411  12/30/2016  20:08:28   37.3973   141.4103   11.94        5.5   \n",
      "\n",
      "                timestamp       unix_timestamp  \n",
      "0     1965-01-02 13:44:18  -157630542000000000  \n",
      "1     1965-01-04 11:29:49  -157465811000000000  \n",
      "2     1965-01-05 18:05:58  -157355642000000000  \n",
      "3     1965-01-08 18:49:43  -157093817000000000  \n",
      "4     1965-01-09 13:32:50  -157026430000000000  \n",
      "...                   ...                  ...  \n",
      "23407 2016-12-28 08:22:12  1482913332000000000  \n",
      "23408 2016-12-28 09:13:47  1482916427000000000  \n",
      "23409 2016-12-28 12:38:51  1482928731000000000  \n",
      "23410 2016-12-29 22:30:19  1483050619000000000  \n",
      "23411 2016-12-30 20:08:28  1483128508000000000  \n",
      "\n",
      "[23412 rows x 8 columns]\n"
     ]
    },
    {
     "name": "stderr",
     "output_type": "stream",
     "text": [
      "C:\\Users\\abeer\\AppData\\Local\\Temp\\ipykernel_10464\\2211712746.py:1: SettingWithCopyWarning: \n",
      "A value is trying to be set on a copy of a slice from a DataFrame.\n",
      "Try using .loc[row_indexer,col_indexer] = value instead\n",
      "\n",
      "See the caveats in the documentation: https://pandas.pydata.org/pandas-docs/stable/user_guide/indexing.html#returning-a-view-versus-a-copy\n",
      "  df['unix_timestamp'] = df['timestamp'].astype('datetime64[s]').astype('int64')\n"
     ]
    }
   ],
   "source": [
    "df['unix_timestamp'] = df['timestamp'].astype('datetime64[s]').astype('int64')\n",
    "\n",
    "# print the updated DataFrame\n",
    "print(df)"
   ]
  },
  {
   "cell_type": "code",
   "execution_count": 9,
   "id": "72811d43",
   "metadata": {},
   "outputs": [],
   "source": [
    "# df['timestamp'] = pd.to_datetime(df.timestamp, format='%m/%d/%Y %H:%M:%S')"
   ]
  },
  {
   "cell_type": "code",
   "execution_count": 10,
   "id": "a259d01a",
   "metadata": {},
   "outputs": [
    {
     "name": "stdout",
     "output_type": "stream",
     "text": [
      "             Date      Time  Latitude  Longitude   Depth  Magnitude  \\\n",
      "0      01/02/1965  13:44:18   19.2460   145.6160  131.60        6.0   \n",
      "1      01/04/1965  11:29:49    1.8630   127.3520   80.00        5.8   \n",
      "2      01/05/1965  18:05:58  -20.5790  -173.9720   20.00        6.2   \n",
      "3      01/08/1965  18:49:43  -59.0760   -23.5570   15.00        5.8   \n",
      "4      01/09/1965  13:32:50   11.9380   126.4270   15.00        5.8   \n",
      "...           ...       ...       ...        ...     ...        ...   \n",
      "23407  12/28/2016  08:22:12   38.3917  -118.8941   12.30        5.6   \n",
      "23408  12/28/2016  09:13:47   38.3777  -118.8957    8.80        5.5   \n",
      "23409  12/28/2016  12:38:51   36.9179   140.4262   10.00        5.9   \n",
      "23410  12/29/2016  22:30:19   -9.0283   118.6639   79.00        6.3   \n",
      "23411  12/30/2016  20:08:28   37.3973   141.4103   11.94        5.5   \n",
      "\n",
      "                timestamp       unix_timestamp  float_timestamp  \n",
      "0     1965-01-02 13:44:18  -157630542000000000    -1.576305e+08  \n",
      "1     1965-01-04 11:29:49  -157465811000000000    -1.574658e+08  \n",
      "2     1965-01-05 18:05:58  -157355642000000000    -1.573556e+08  \n",
      "3     1965-01-08 18:49:43  -157093817000000000    -1.570938e+08  \n",
      "4     1965-01-09 13:32:50  -157026430000000000    -1.570264e+08  \n",
      "...                   ...                  ...              ...  \n",
      "23407 2016-12-28 08:22:12  1482913332000000000     1.482913e+09  \n",
      "23408 2016-12-28 09:13:47  1482916427000000000     1.482916e+09  \n",
      "23409 2016-12-28 12:38:51  1482928731000000000     1.482929e+09  \n",
      "23410 2016-12-29 22:30:19  1483050619000000000     1.483051e+09  \n",
      "23411 2016-12-30 20:08:28  1483128508000000000     1.483129e+09  \n",
      "\n",
      "[23412 rows x 9 columns]\n"
     ]
    },
    {
     "name": "stderr",
     "output_type": "stream",
     "text": [
      "C:\\Users\\abeer\\AppData\\Local\\Temp\\ipykernel_10464\\2322599523.py:1: SettingWithCopyWarning: \n",
      "A value is trying to be set on a copy of a slice from a DataFrame.\n",
      "Try using .loc[row_indexer,col_indexer] = value instead\n",
      "\n",
      "See the caveats in the documentation: https://pandas.pydata.org/pandas-docs/stable/user_guide/indexing.html#returning-a-view-versus-a-copy\n",
      "  df['float_timestamp'] = (df['timestamp'].astype('datetime64[s]').astype('int64') / 1e9).astype('float64')\n"
     ]
    }
   ],
   "source": [
    "df['float_timestamp'] = (df['timestamp'].astype('datetime64[s]').astype('int64') / 1e9).astype('float64')\n",
    "\n",
    "# print the updated DataFrame\n",
    "print(df)"
   ]
  },
  {
   "cell_type": "code",
   "execution_count": 11,
   "id": "501ddd3f",
   "metadata": {},
   "outputs": [],
   "source": [
    "X = df[['float_timestamp','Latitude', 'Longitude']]\n",
    "y = df[['Magnitude', 'Depth']]"
   ]
  },
  {
   "cell_type": "code",
   "execution_count": 13,
   "id": "ae2ee66e",
   "metadata": {},
   "outputs": [
    {
     "name": "stdout",
     "output_type": "stream",
     "text": [
      "(18729, 3) (4683, 3) (18729, 2) (4683, 2)\n"
     ]
    }
   ],
   "source": [
    "from sklearn.model_selection import train_test_split\n",
    "\n",
    "X_train, X_test, y_train, y_test = train_test_split(X, y, test_size=0.2, random_state=42)\n",
    "print(X_train.shape, X_test.shape, y_train.shape, y_test.shape)"
   ]
  },
  {
   "cell_type": "code",
   "execution_count": 15,
   "id": "93762129",
   "metadata": {},
   "outputs": [
    {
     "data": {
      "text/plain": [
       "array([[  5.925,  61.573],\n",
       "       [  5.626,  10.374],\n",
       "       [  5.672,  65.88 ],\n",
       "       ...,\n",
       "       [  5.912, 208.121],\n",
       "       [  5.977,  33.06 ],\n",
       "       [  5.727,  33.405]])"
      ]
     },
     "execution_count": 15,
     "metadata": {},
     "output_type": "execute_result"
    }
   ],
   "source": [
    "from sklearn.ensemble import RandomForestRegressor\n",
    "\n",
    "reg = RandomForestRegressor(random_state=42)\n",
    "reg.fit(X_train, y_train)\n",
    "reg.predict(X_test)"
   ]
  },
  {
   "cell_type": "code",
   "execution_count": 16,
   "id": "9fca588b",
   "metadata": {},
   "outputs": [
    {
     "name": "stdout",
     "output_type": "stream",
     "text": [
      "Accuracy:: 38.68060646702736\n"
     ]
    }
   ],
   "source": [
    "acc = reg.score(X_test, y_test)*100\n",
    "print(\"Accuracy::\",acc)"
   ]
  },
  {
   "cell_type": "code",
   "execution_count": 18,
   "id": "78360ca3",
   "metadata": {},
   "outputs": [
    {
     "name": "stderr",
     "output_type": "stream",
     "text": [
      "C:\\Users\\abeer\\AppData\\Local\\Temp\\ipykernel_10464\\1330498997.py:1: FutureWarning: The default value of numeric_only in DataFrame.corr is deprecated. In a future version, it will default to False. Select only valid columns or specify the value of numeric_only to silence this warning.\n",
      "  df.corr()\n",
      "C:\\Users\\abeer\\AppData\\Local\\Temp\\ipykernel_10464\\1330498997.py:2: FutureWarning: The default value of numeric_only in DataFrame.corr is deprecated. In a future version, it will default to False. Select only valid columns or specify the value of numeric_only to silence this warning.\n",
      "  a= df.corr()\n"
     ]
    }
   ],
   "source": [
    "df.corr() \n",
    "a= df.corr() \n"
   ]
  },
  {
   "cell_type": "code",
   "execution_count": 20,
   "id": "997e448c",
   "metadata": {},
   "outputs": [
    {
     "data": {
      "image/png": "[encoded data removed]",
      "text/plain": [
       "<Figure size 640x480 with 2 Axes>"
      ]
     },
     "metadata": {},
     "output_type": "display_data"
    }
   ],
   "source": [
    "import seaborn as sns\n",
    "sns.heatmap(a, annot=True, cmap='coolwarm')\n",
    "plt.show()"
   ]
  },
  {
   "cell_type": "code",
   "execution_count": 22,
   "id": "993ab94e",
   "metadata": {},
   "outputs": [
    {
     "data": {
      "text/plain": [
       "array([[  5.89 ,  72.69 ],\n",
       "       [  5.705,  10.31 ],\n",
       "       [  5.76 ,  77.505],\n",
       "       ...,\n",
       "       [  5.845, 208.775],\n",
       "       [  5.915,  33.55 ],\n",
       "       [  5.685,  35.205]])"
      ]
     },
     "execution_count": 22,
     "metadata": {},
     "output_type": "execute_result"
    }
   ],
   "source": [
    "from sklearn.model_selection import GridSearchCV\n",
    "\n",
    "parameters = {'n_estimators':[10, 20]}\n",
    "\n",
    "grid_obj = GridSearchCV(reg, parameters)\n",
    "grid_fit = grid_obj.fit(X_train, y_train)\n",
    "best_fit = grid_fit.best_estimator_\n",
    "best_fit.predict(X_test)"
   ]
  },
  {
   "cell_type": "code",
   "execution_count": null,
   "id": "c827a21f",
   "metadata": {
    "tags": []
   },
   "outputs": [],
   "source": [
    "acc = best_fit.score(X_test, y_test)*100\n",
    "print(\"Accuracy::\",acc)"
   ]
  },
  {
   "cell_type": "code",
   "execution_count": null,
   "id": "a31c3105",
   "metadata": {},
   "outputs": [],
   "source": [
    "df.columns"
   ]
  },
  {
   "cell_type": "markdown",
   "id": "eca6db9e",
   "metadata": {},
   "source": [
    "***\n",
    "# Part 2 \n",
    "## Data Visualization"
   ]
  },
  {
   "cell_type": "code",
   "execution_count": null,
   "id": "e9ae2176-f06a-421f-bf71-06893c0e66cf",
   "metadata": {},
   "outputs": [],
   "source": [
    "from mpl_toolkits.basemap import Basemap\n",
    "\n",
    "m = Basemap(projection='mill',llcrnrlat=-80,urcrnrlat=80, llcrnrlon=-180,urcrnrlon=180,lat_ts=20,resolution='c')\n",
    "\n",
    "longitudes = data[\"Longitude\"].tolist()\n",
    "latitudes = data[\"Latitude\"].tolist()\n",
    "#m = Basemap(width=12000000,height=9000000,projection='lcc',\n",
    "            #resolution=None,lat_1=80.,lat_2=55,lat_0=80,lon_0=-107.)\n",
    "x,y = m(longitudes,latitudes)"
   ]
  },
  {
   "cell_type": "code",
   "execution_count": null,
   "id": "ea948aa2-e5e6-40a6-b090-fd06813474e8",
   "metadata": {
    "tags": []
   },
   "outputs": [],
   "source": [
    "fig = plt.figure(figsize=(12,10))\n",
    "plt.title(\"Major Earthquakes Around the World, 1965-2016\")\n",
    "m.plot(x, y, \"o\", markersize = 2, color = 'blue')\n",
    "m.drawcoastlines()\n",
    "m.fillcontinents(color='green',lake_color='aqua')\n",
    "m.drawmapboundary()\n",
    "m.drawcountries()\n",
    "plt.show()"
   ]
  },
  {
   "cell_type": "code",
   "execution_count": null,
   "id": "4dce3e88",
   "metadata": {},
   "outputs": [],
   "source": []
  }
 ],
 "metadata": {
  "kernelspec": {
   "display_name": "Python 3 (ipykernel)",
   "language": "python",
   "name": "python3"
  },
  "language_info": {
   "codemirror_mode": {
    "name": "ipython",
    "version": 3
   },
   "file_extension": ".py",
   "mimetype": "text/x-python",
   "name": "python",
   "nbconvert_exporter": "python",
   "pygments_lexer": "ipython3",
   "version": "3.8.1"
  }
 },
 "nbformat": 4,
 "nbformat_minor": 5
}
